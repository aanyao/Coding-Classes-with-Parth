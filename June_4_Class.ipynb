{
 "cells": [
  {
   "cell_type": "code",
   "execution_count": 4,
   "id": "e505e8dc-ea5a-47cd-b33e-cc18da63569a",
   "metadata": {},
   "outputs": [
    {
     "name": "stdout",
     "output_type": "stream",
     "text": [
      "Today, I am feeling awesome. It is rainy over here\n"
     ]
    }
   ],
   "source": [
    "mood = \"awesome\"\n",
    "weather = \"rainy\"\n",
    "print(\"Today, I am feeling {}. It is {} over here\".format(mood, weather))"
   ]
  },
  {
   "cell_type": "code",
   "execution_count": 8,
   "id": "3c160e4c-9a42-48a5-8295-fdb79ccb82ad",
   "metadata": {},
   "outputs": [
    {
     "name": "stdout",
     "output_type": "stream",
     "text": [
      "Money\n"
     ]
    }
   ],
   "source": [
    "loc = \"Bank\"\n",
    "if loc == \"Auto\":\n",
    "    print(\"Hello\")\n",
    "else:\n",
    "    \n",
    "    print(\"Money\")"
   ]
  },
  {
   "cell_type": "code",
   "execution_count": 10,
   "id": "86b73393-8ab1-48b5-9005-cf630d700234",
   "metadata": {},
   "outputs": [],
   "source": [
    "def circumference(radius):\n",
    "    print(2*pi*radius)"
   ]
  },
  {
   "cell_type": "code",
   "execution_count": null,
   "id": "cb39d531-cb2a-4dc6-961c-b837789de2cd",
   "metadata": {},
   "outputs": [],
   "source": [
    "num = 6 , low = 1 , upper = 4\n",
    "def check_range(num, low, upper):\n",
    "    "
   ]
  },
  {
   "cell_type": "code",
   "execution_count": null,
   "id": "1d1564c2-4d30-4601-9102-a89ece261f72",
   "metadata": {},
   "outputs": [],
   "source": [
    "define a function that takes string as input and tells you number of lower case characters and upper case characters"
   ]
  },
  {
   "cell_type": "code",
   "execution_count": 16,
   "id": "124d0d86-abea-4b82-90e7-9343db0c5505",
   "metadata": {},
   "outputs": [
    {
     "name": "stdout",
     "output_type": "stream",
     "text": [
      "Number of lowercase characters: 16\n",
      "Number of uppercase characters: 3\n"
     ]
    }
   ],
   "source": [
    "def count_case_characters(input_string):\n",
    "    lower_count = 0\n",
    "    upper_count = 0\n",
    "    for char in input_string:\n",
    "        if char.islower():\n",
    "            lower_count += 1\n",
    "        elif char.isupper():\n",
    "            upper_count += 1\n",
    "    return lower_count, upper_count\n",
    "\n",
    "# Example usage:\n",
    "my_string = \"Hi, my name is Parth Loya\"\n",
    "lower, upper = count_case_characters(my_string)\n",
    "print(\"Number of lowercase characters:\", lower)  # Output: 8\n",
    "print(\"Number of uppercase characters:\", upper)  # Output: 2\n"
   ]
  },
  {
   "cell_type": "code",
   "execution_count": null,
   "id": "5335ee45-1b52-4064-afd0-4a36d4fc67a4",
   "metadata": {},
   "outputs": [],
   "source": [
    "def "
   ]
  },
  {
   "cell_type": "code",
   "execution_count": 14,
   "id": "fdd4a087-f12c-448d-a21d-007ae00720bd",
   "metadata": {},
   "outputs": [
    {
     "data": {
      "text/plain": [
       "False"
      ]
     },
     "execution_count": 14,
     "metadata": {},
     "output_type": "execute_result"
    }
   ],
   "source": [
    "char = 'F'\n",
    "char.islower() "
   ]
  },
  {
   "cell_type": "code",
   "execution_count": 20,
   "id": "d33723e3-4ab4-4d9f-8768-e0c6aa79fd8c",
   "metadata": {},
   "outputs": [
    {
     "name": "stdout",
     "output_type": "stream",
     "text": [
      "[1, 2, 3, 4]\n"
     ]
    }
   ],
   "source": [
    "# Write a Python function that takes a list and returns a new list with unique elements of the first list.\n",
    "list1 = [1,1,2,2,3,1,4]\n",
    "def unique_list(list1):\n",
    "    set1 = set(list1);\n",
    "    list2 = list(set1)\n",
    "    print(list2)\n",
    "\n",
    "unique_list(list1)"
   ]
  },
  {
   "cell_type": "code",
   "execution_count": null,
   "id": "146b824f-8524-4770-90f8-bdcc54cef8d1",
   "metadata": {},
   "outputs": [],
   "source": [
    "Write a Python function to multiply all the numbers in a list."
   ]
  },
  {
   "cell_type": "code",
   "execution_count": 21,
   "id": "3fa58a0e-592e-4d4c-b345-6a7aca7ca4ff",
   "metadata": {},
   "outputs": [],
   "source": [
    "def product(list):\n",
    "    result = 1\n",
    "    for num in list:\n",
    "        result *= num\n",
    "    print(result)"
   ]
  },
  {
   "cell_type": "code",
   "execution_count": 22,
   "id": "0b2d188f-1983-4019-928a-7ddb655ff412",
   "metadata": {},
   "outputs": [
    {
     "name": "stdout",
     "output_type": "stream",
     "text": [
      "120\n"
     ]
    }
   ],
   "source": [
    "product([1,2,3,4,5])"
   ]
  },
  {
   "cell_type": "code",
   "execution_count": null,
   "id": "cef65af7-674a-4fa4-877a-12740636442e",
   "metadata": {},
   "outputs": [],
   "source": []
  }
 ],
 "metadata": {
  "kernelspec": {
   "display_name": "Python 3 (ipykernel)",
   "language": "python",
   "name": "python3"
  },
  "language_info": {
   "codemirror_mode": {
    "name": "ipython",
    "version": 3
   },
   "file_extension": ".py",
   "mimetype": "text/x-python",
   "name": "python",
   "nbconvert_exporter": "python",
   "pygments_lexer": "ipython3",
   "version": "3.11.7"
  }
 },
 "nbformat": 4,
 "nbformat_minor": 5
}
