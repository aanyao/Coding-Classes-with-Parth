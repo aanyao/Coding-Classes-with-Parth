{
 "cells": [
  {
   "cell_type": "code",
   "execution_count": 3,
   "id": "4fce991c-6056-4862-908d-f081866f53cf",
   "metadata": {},
   "outputs": [
    {
     "name": "stdout",
     "output_type": "stream",
     "text": [
      "sunday\n"
     ]
    }
   ],
   "source": [
    "string = 'Today is a Sunday'\n",
    "abc = string.lower()\n",
    "for word in abc.split():\n",
    "    if word[0] == 's':\n",
    "        print(word)"
   ]
  },
  {
   "cell_type": "code",
   "execution_count": 8,
   "id": "1a571e02-688d-425f-a307-ae656eb39e34",
   "metadata": {},
   "outputs": [
    {
     "name": "stdout",
     "output_type": "stream",
     "text": [
      "[0, 2, 4, 6, 8]\n"
     ]
    }
   ],
   "source": [
    "print(list(range(0,10,2)))\n"
   ]
  },
  {
   "cell_type": "code",
   "execution_count": 9,
   "id": "b8557bba-cb61-4042-9539-37977e4802ca",
   "metadata": {},
   "outputs": [
    {
     "name": "stdout",
     "output_type": "stream",
     "text": [
      "California<- even length\n",
      "is<- even length\n",
      "near<- even length\n"
     ]
    }
   ],
   "source": [
    "string = 'California is near Pacific Ocean'\n",
    "#California is near Pacific Ocean\n",
    "for word in string.split():\n",
    "    if len(word)%2 == 0:\n",
    "        print(word + '<- even length')\n",
    "        "
   ]
  },
  {
   "cell_type": "code",
   "execution_count": 11,
   "id": "64ec15f2-79a4-479b-a20d-2dcae8aa87fb",
   "metadata": {},
   "outputs": [],
   "source": [
    "def myfunc(jelly):\n",
    "    print(jelly**2)\n"
   ]
  },
  {
   "cell_type": "code",
   "execution_count": 12,
   "id": "92881c31-dd57-4a1c-aad5-a0d3542e2944",
   "metadata": {},
   "outputs": [
    {
     "name": "stdout",
     "output_type": "stream",
     "text": [
      "49\n"
     ]
    }
   ],
   "source": [
    "myfunc(7)"
   ]
  },
  {
   "cell_type": "code",
   "execution_count": null,
   "id": "3b1435fb-40df-475f-8169-8dcb515ecc64",
   "metadata": {},
   "outputs": [],
   "source": []
  }
 ],
 "metadata": {
  "kernelspec": {
   "display_name": "Python 3 (ipykernel)",
   "language": "python",
   "name": "python3"
  },
  "language_info": {
   "codemirror_mode": {
    "name": "ipython",
    "version": 3
   },
   "file_extension": ".py",
   "mimetype": "text/x-python",
   "name": "python",
   "nbconvert_exporter": "python",
   "pygments_lexer": "ipython3",
   "version": "3.11.7"
  }
 },
 "nbformat": 4,
 "nbformat_minor": 5
}
