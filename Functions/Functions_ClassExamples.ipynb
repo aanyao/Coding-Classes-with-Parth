{
 "cells": [
  {
   "cell_type": "code",
   "execution_count": null,
   "id": "40ace11a-5ade-458e-8102-c2c6b7e4be92",
   "metadata": {},
   "outputs": [],
   "source": []
  },
  {
   "cell_type": "code",
   "execution_count": 23,
   "id": "1536a883-4d63-4f76-83e2-5852caea4efd",
   "metadata": {},
   "outputs": [],
   "source": [
    "work_hours = [('Abby',100),('Billy',4000),('Cassie',800)]\n",
    "#list of employees and their working hours"
   ]
  },
  {
   "cell_type": "code",
   "execution_count": 24,
   "id": "e51a6d3d-40b8-49d3-aa44-07e5a79318f9",
   "metadata": {},
   "outputs": [],
   "source": [
    "#function that takes above list which contains employees and working hours and returns employee who worked the most\n",
    "def employee_check(work_hours):\n",
    "    current_max = 0\n",
    "    employee_of_month = \"\"\n",
    "    for employee,hours in work_hours:\n",
    "        if hours > current_max:\n",
    "            current_max = hours\n",
    "            employee_of_month = employee\n",
    "        else:\n",
    "            pass\n",
    "    return(employee_of_month, current_max)"
   ]
  },
  {
   "cell_type": "code",
   "execution_count": 25,
   "id": "0f92ee6f-9548-4699-ae5f-437c649fe036",
   "metadata": {},
   "outputs": [
    {
     "data": {
      "text/plain": [
       "('Billy', 4000)"
      ]
     },
     "execution_count": 25,
     "metadata": {},
     "output_type": "execute_result"
    }
   ],
   "source": [
    "employee_check(work_hours)"
   ]
  },
  {
   "cell_type": "code",
   "execution_count": 40,
   "id": "28cf049f-46a9-4eaa-a74c-9f93085555cc",
   "metadata": {},
   "outputs": [],
   "source": [
    "\n",
    "def first_character(string):\n",
    "    r = string.split()\n",
    "    for word in r:\n",
    "        print(word[0])"
   ]
  },
  {
   "cell_type": "code",
   "execution_count": 44,
   "id": "8aeef912-1fe4-44e8-9054-45c4b2db4b5c",
   "metadata": {},
   "outputs": [
    {
     "name": "stdout",
     "output_type": "stream",
     "text": [
      "T\n",
      "i\n",
      "T\n"
     ]
    }
   ],
   "source": [
    "first_character('Today is Tuesday')"
   ]
  },
  {
   "cell_type": "code",
   "execution_count": null,
   "id": "b03b825a-b752-48e5-bb60-a7c39d99d788",
   "metadata": {},
   "outputs": [],
   "source": []
  }
 ],
 "metadata": {
  "kernelspec": {
   "display_name": "Python 3 (ipykernel)",
   "language": "python",
   "name": "python3"
  },
  "language_info": {
   "codemirror_mode": {
    "name": "ipython",
    "version": 3
   },
   "file_extension": ".py",
   "mimetype": "text/x-python",
   "name": "python",
   "nbconvert_exporter": "python",
   "pygments_lexer": "ipython3",
   "version": "3.11.7"
  }
 },
 "nbformat": 4,
 "nbformat_minor": 5
}
