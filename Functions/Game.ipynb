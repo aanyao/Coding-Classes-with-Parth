{
 "cells": [
  {
   "cell_type": "code",
   "execution_count": 21,
   "id": "796f244a-aca1-487a-b724-1fecd64ab570",
   "metadata": {},
   "outputs": [
    {
     "name": "stdin",
     "output_type": "stream",
     "text": [
      "Pick a number 0,1,2:  1\n"
     ]
    },
    {
     "name": "stdout",
     "output_type": "stream",
     "text": [
      "Wrong guess!\n",
      "['o', '', '']\n"
     ]
    }
   ],
   "source": [
    "mylist = ['','o','']\n",
    "from random import shuffle\n",
    "def shuffle_list(mylist):\n",
    "    shuffle(mylist)\n",
    "    return mylist\n",
    "\n",
    "def player_guess():\n",
    "    guess = ''\n",
    "    while guess not in ['0','1','2']:\n",
    "        guess = input('Pick a number 0,1,2: ')\n",
    "    return int(guess)\n",
    "\n",
    "def check_guess(mylist,guess):\n",
    "    if mylist[guess] == '0':\n",
    "        print(\"Correct!\")\n",
    "    else:\n",
    "        print(\"Wrong guess!\")\n",
    "        print(mylist)\n",
    "\n",
    "mixed_uplist = shuffle_list(mylist)\n",
    "guess = player_guess()\n",
    "check_guess(mixed_uplist,guess)"
   ]
  },
  {
   "cell_type": "code",
   "execution_count": 22,
   "id": "55808896-f7ac-4743-9a19-21ecd62d4d26",
   "metadata": {},
   "outputs": [],
   "source": []
  },
  {
   "cell_type": "code",
   "execution_count": 23,
   "id": "1615b42d-aca2-451d-b3d6-8ea24657b39e",
   "metadata": {},
   "outputs": [
    {
     "ename": "TypeError",
     "evalue": "'tuple' object does not support item assignment",
     "output_type": "error",
     "traceback": [
      "\u001b[1;31m---------------------------------------------------------------------------\u001b[0m",
      "\u001b[1;31mTypeError\u001b[0m                                 Traceback (most recent call last)",
      "Cell \u001b[1;32mIn[23], line 1\u001b[0m\n\u001b[1;32m----> 1\u001b[0m a[\u001b[38;5;241m0\u001b[39m] \u001b[38;5;241m=\u001b[39m \u001b[38;5;241m3\u001b[39m\n",
      "\u001b[1;31mTypeError\u001b[0m: 'tuple' object does not support item assignment"
     ]
    }
   ],
   "source": [
    "a[0] = 3\n"
   ]
  },
  {
   "cell_type": "code",
   "execution_count": null,
   "id": "aaaf4b54-ae5c-4ea6-bba0-a2e24cbe46d8",
   "metadata": {},
   "outputs": [],
   "source": []
  }
 ],
 "metadata": {
  "kernelspec": {
   "display_name": "Python 3 (ipykernel)",
   "language": "python",
   "name": "python3"
  },
  "language_info": {
   "codemirror_mode": {
    "name": "ipython",
    "version": 3
   },
   "file_extension": ".py",
   "mimetype": "text/x-python",
   "name": "python",
   "nbconvert_exporter": "python",
   "pygments_lexer": "ipython3",
   "version": "3.11.7"
  }
 },
 "nbformat": 4,
 "nbformat_minor": 5
}
