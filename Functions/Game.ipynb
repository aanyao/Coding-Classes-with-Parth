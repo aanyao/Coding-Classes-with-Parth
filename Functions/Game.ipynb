{
 "cells": [
  {
   "cell_type": "code",
   "execution_count": 21,
   "id": "796f244a-aca1-487a-b724-1fecd64ab570",
   "metadata": {},
   "outputs": [
    {
     "name": "stdin",
     "output_type": "stream",
     "text": [
      "Pick a number 0,1,2:  1\n"
     ]
    },
    {
     "name": "stdout",
     "output_type": "stream",
     "text": [
      "Wrong guess!\n",
      "['o', '', '']\n"
     ]
    }
   ],
   "source": [
    "#This is a game. Here I have created three functions. I am asking user to guess which cup left(0), middle (1) or right(2) contains the ball. \n",
    "\n",
    "#Step 1 - Generate a list telling where the ball is \n",
    "mylist = ['','o','']\n",
    "\n",
    "#Step 2 - Import shuffle library in random package. This is how you import any package or library in python\n",
    "from random import shuffle\n",
    "\n",
    "#Step 3 - shuffle the position of ball so that it becomes a game. \n",
    "def shuffle_list(mylist):\n",
    "    shuffle(mylist)\n",
    "    return mylist\n",
    "\n",
    "#Step 4 - take user's input \n",
    "def player_guess():\n",
    "    guess = ''\n",
    "    while guess not in ['0','1','2']:\n",
    "        guess = input('Pick a number 0,1,2: ')\n",
    "    return int(guess)\n",
    "\n",
    "#Step 5 - Check whether user's input is same as position of ball. return position of the ball if guess is wrong\n",
    "def check_guess(mylist,guess):\n",
    "    if mylist[guess] == '0':\n",
    "        print(\"Correct!\")\n",
    "    else:\n",
    "        print(\"Wrong guess!\")\n",
    "        print(mylist)\n",
    "\n",
    "#Step 6 - Implement shuffle function created above\n",
    "mixed_uplist = shuffle_list(mylist)\n",
    "\n",
    "#Step 7 - Get the player's guess using guess() function created above\n",
    "guess = player_guess()\n",
    "\n",
    "#Step 8 - Implement the function to check if guess was correct or not\n",
    "check_guess(mixed_uplist,guess)"
   ]
  },
  {
   "cell_type": "code",
   "execution_count": 22,
   "id": "55808896-f7ac-4743-9a19-21ecd62d4d26",
   "metadata": {},
   "outputs": [],
   "source": []
  },
  {
   "cell_type": "code",
   "execution_count": null,
   "id": "aaaf4b54-ae5c-4ea6-bba0-a2e24cbe46d8",
   "metadata": {},
   "outputs": [],
   "source": []
  }
 ],
 "metadata": {
  "kernelspec": {
   "display_name": "Python 3 (ipykernel)",
   "language": "python",
   "name": "python3"
  },
  "language_info": {
   "codemirror_mode": {
    "name": "ipython",
    "version": 3
   },
   "file_extension": ".py",
   "mimetype": "text/x-python",
   "name": "python",
   "nbconvert_exporter": "python",
   "pygments_lexer": "ipython3",
   "version": "3.11.7"
  }
 },
 "nbformat": 4,
 "nbformat_minor": 5
}
