{
 "cells": [
  {
   "cell_type": "code",
   "execution_count": null,
   "id": "fc5995ee-1f58-46a6-9dc6-1e30842dee8e",
   "metadata": {},
   "outputs": [],
   "source": [
    "#creates a for loop \n",
    "\n",
    "list4 = [1,2,3,4]\n",
    "for i in list 4:\n",
    "    print(i)"
   ]
  },
  {
   "cell_type": "code",
   "execution_count": null,
   "id": "a94d5bd1-d61d-43b4-bf24-372186746e02",
   "metadata": {},
   "outputs": [],
   "source": [
    "#Creates a for loop\n",
    "\n",
    "str = 'hello world'\n",
    "for i in str:\n",
    "    print(i)"
   ]
  },
  {
   "cell_type": "code",
   "execution_count": null,
   "id": "75aeb469-ca00-4d0a-9559-6ad96df1677f",
   "metadata": {},
   "outputs": [],
   "source": [
    "list1 = [(1,2),(3,4),(5,6),(7,8)]\n",
    "for (a,b) in mylist:\n",
    "    print(a)\n",
    "\n",
    "#Tuple unpacking"
   ]
  },
  {
   "cell_type": "code",
   "execution_count": null,
   "id": "7c4d0b66-6174-4124-bc0a-790148fc00dd",
   "metadata": {},
   "outputs": [],
   "source": [
    "#Tuple unpacking \n",
    "\n",
    "list2 = [(1,2,3),(4,5,6),(7,8,9)]\n",
    "for (a,b,c) in list2:\n",
    "    print(b)"
   ]
  },
  {
   "cell_type": "code",
   "execution_count": null,
   "id": "aace007f-1e37-420f-8128-ba69190d9475",
   "metadata": {},
   "outputs": [],
   "source": [
    "#While loop. Notice .format() method\n",
    "\n",
    "x = 0\n",
    "while x < 5 :\n",
    "    print(\"The current value of x is {}\".format(x))\n",
    "    x += 1"
   ]
  },
  {
   "cell_type": "code",
   "execution_count": null,
   "id": "a9176f54-69c8-4685-a3f8-b4845ac13a81",
   "metadata": {},
   "outputs": [],
   "source": [
    "#iterates first 10 numbers from 0 to 9 \n",
    "\n",
    "for i in range(10):\n",
    "    print(i)"
   ]
  },
  {
   "cell_type": "code",
   "execution_count": null,
   "id": "c6f49055-c711-4093-bacc-aa445000a6be",
   "metadata": {},
   "outputs": [],
   "source": [
    "#iterates over numbers from 3 to 9 \n",
    "\n",
    "for i in range(3,10):\n",
    "    print(i)"
   ]
  },
  {
   "cell_type": "code",
   "execution_count": null,
   "id": "206a8263-dc68-4b82-8fe0-b48c8c6bde81",
   "metadata": {},
   "outputs": [],
   "source": [
    "#iterates over numbers from 3 to 9 in steps of 2\n",
    "\n",
    "for i in range(3,10,2):\n",
    "    print(i)"
   ]
  },
  {
   "cell_type": "code",
   "execution_count": null,
   "id": "501baeb7-b63e-4b47-b803-090d6b090f3e",
   "metadata": {},
   "outputs": [],
   "source": [
    "#zip combines two list in tuple\n",
    "\n",
    "list1 = [1,2,3,4,5]\n",
    "list2 = ['a','b','c']\n",
    "for (a,b) in zip(list1, list2):\n",
    "    print(a)"
   ]
  }
 ],
 "metadata": {
  "kernelspec": {
   "display_name": "Python 3 (ipykernel)",
   "language": "python",
   "name": "python3"
  },
  "language_info": {
   "codemirror_mode": {
    "name": "ipython",
    "version": 3
   },
   "file_extension": ".py",
   "mimetype": "text/x-python",
   "name": "python",
   "nbconvert_exporter": "python",
   "pygments_lexer": "ipython3",
   "version": "3.11.7"
  }
 },
 "nbformat": 4,
 "nbformat_minor": 5
}
