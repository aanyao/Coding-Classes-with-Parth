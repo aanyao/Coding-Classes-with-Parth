{
 "cells": [
  {
   "cell_type": "code",
   "execution_count": 13,
   "id": "3331c6d7-706b-48e1-9dd0-a32f12b4a60d",
   "metadata": {},
   "outputs": [
    {
     "name": "stdout",
     "output_type": "stream",
     "text": [
      "Overwriting codingclasses.txt\n"
     ]
    }
   ],
   "source": [
    "%%writefile codingclasses.txt\n",
    "This is our second coding class\n",
    "We discussed about data types\n",
    "Some of the data types are int, float, string, tuples, dictionary, etc"
   ]
  },
  {
   "cell_type": "code",
   "execution_count": 4,
   "id": "5174394d-22b2-442b-966e-17004cdee503",
   "metadata": {},
   "outputs": [],
   "source": [
    "a = open('myfile.txt')"
   ]
  },
  {
   "cell_type": "code",
   "execution_count": 5,
   "id": "e8dd8e8d-f3ec-4179-9091-fcc664f2764b",
   "metadata": {},
   "outputs": [
    {
     "data": {
      "text/plain": [
       "'Hello this is a text file\\nThis is second line\\nThis is third line\\n'"
      ]
     },
     "execution_count": 5,
     "metadata": {},
     "output_type": "execute_result"
    }
   ],
   "source": [
    "a.read()"
   ]
  },
  {
   "cell_type": "code",
   "execution_count": 6,
   "id": "6aaff807-59e4-4d05-9278-d4339c7fef0e",
   "metadata": {},
   "outputs": [
    {
     "data": {
      "text/plain": [
       "'This is our second coding class\\nWe discussed about data types\\nSome of the data types are int, float, string, tuples, dictionary, etc\\n'"
      ]
     },
     "execution_count": 6,
     "metadata": {},
     "output_type": "execute_result"
    }
   ],
   "source": [
    "b = open('codingclasses.txt')\n",
    "b.read()"
   ]
  },
  {
   "cell_type": "code",
   "execution_count": 14,
   "id": "78fcef83-0901-4791-b639-af9cf5554681",
   "metadata": {},
   "outputs": [
    {
     "data": {
      "text/plain": [
       "42"
      ]
     },
     "execution_count": 14,
     "metadata": {},
     "output_type": "execute_result"
    }
   ],
   "source": [
    "b = open('codingclasses.txt','a')\n",
    "b.write('We are also discussing about writing files')"
   ]
  },
  {
   "cell_type": "code",
   "execution_count": 9,
   "id": "75940bd8-ea03-489a-865e-2050af50a2dc",
   "metadata": {},
   "outputs": [
    {
     "data": {
      "text/plain": [
       "0"
      ]
     },
     "execution_count": 9,
     "metadata": {},
     "output_type": "execute_result"
    }
   ],
   "source": [
    "b.seek(0)"
   ]
  },
  {
   "cell_type": "code",
   "execution_count": 15,
   "id": "91ba9670-e2a6-48d9-86b0-e2d75dfd650a",
   "metadata": {},
   "outputs": [],
   "source": [
    "b = open('codingclasses.txt','r')"
   ]
  },
  {
   "cell_type": "code",
   "execution_count": 16,
   "id": "5b525f02-707b-4565-8d92-1b3f21585252",
   "metadata": {},
   "outputs": [
    {
     "data": {
      "text/plain": [
       "'This is our second coding class\\nWe discussed about data types\\nSome of the data types are int, float, string, tuples, dictionary, etc\\nWe are also discussing about writing files'"
      ]
     },
     "execution_count": 16,
     "metadata": {},
     "output_type": "execute_result"
    }
   ],
   "source": [
    "b.read()"
   ]
  },
  {
   "cell_type": "code",
   "execution_count": 21,
   "id": "bd931ccf-4816-424e-8f84-d018fbde6565",
   "metadata": {},
   "outputs": [
    {
     "name": "stdin",
     "output_type": "stream",
     "text": [
      "Enter dOB in dd/mm/yyyy : 04/05/1993\n"
     ]
    },
    {
     "name": "stdout",
     "output_type": "stream",
     "text": [
      "1993\n",
      "31\n"
     ]
    }
   ],
   "source": [
    "a = input('Enter dOB in dd/mm/yyyy :')\n",
    "years = a[-4:]\n",
    "print(years)\n",
    "age = 2024 - int(years) \n",
    "print(age)"
   ]
  },
  {
   "cell_type": "code",
   "execution_count": 24,
   "id": "a95d604b-9ac4-48d7-8cd0-12a45ea71f53",
   "metadata": {},
   "outputs": [
    {
     "name": "stdout",
     "output_type": "stream",
     "text": [
      "1\n",
      "2\n",
      "3\n"
     ]
    }
   ],
   "source": [
    "list1 = [1,2,3]\n",
    "for i in list1:\n",
    "    print(i)\n"
   ]
  },
  {
   "cell_type": "code",
   "execution_count": 25,
   "id": "91c0a4ac-b64e-42a8-8f75-3f0b64031cc7",
   "metadata": {},
   "outputs": [
    {
     "name": "stdout",
     "output_type": "stream",
     "text": [
      "H\n",
      "e\n",
      "l\n",
      "l\n",
      "o\n",
      " \n",
      "W\n",
      "o\n",
      "r\n",
      "l\n",
      "d\n"
     ]
    }
   ],
   "source": [
    "str = \"Hello World\"\n",
    "for i in str:\n",
    "    print(i)"
   ]
  },
  {
   "cell_type": "code",
   "execution_count": 80,
   "id": "b09abe72-2a7a-4351-9238-ebe94296f968",
   "metadata": {},
   "outputs": [
    {
     "name": "stdout",
     "output_type": "stream",
     "text": [
      "Overwriting paint.in\n"
     ]
    }
   ],
   "source": [
    "\n",
    "%%writefile paint.in\n",
    "1 45\n",
    "2 9"
   ]
  },
  {
   "cell_type": "code",
   "execution_count": 81,
   "id": "07e7716c-f7fa-4804-b987-7b2c2eea6e38",
   "metadata": {},
   "outputs": [],
   "source": [
    "f = open('paint.in', 'r')\n",
    "x1, x2 = map(int, f.readline().split())\n",
    "x3, x4  = map(int, f.readline().split())\n",
    "smallest_x = min(x1,x2,x3,x4)\n",
    "largest_x = max(x1,x2,x3,x4)\n",
    "paint_length = largest_x - smallest_x\n",
    "f = open('paint.out', 'w')\n",
    "f.write('length painted is %s' % paint_length)\n",
    "f.close()"
   ]
  },
  {
   "cell_type": "code",
   "execution_count": null,
   "id": "6af7be1c-8b2d-43d7-81ab-b4361b7d1cc3",
   "metadata": {},
   "outputs": [],
   "source": [
    "#x1_first = int(coordinates[0][0])\n",
    "#y1_first = int(coordinates[0][2])\n",
    "#x2_first = int(coordinates[0][4])\n",
    "#y2_first = int(coordinates[0][6])\n",
    "#x3_second = int(coordinates[1][0])\n",
    "y3_second = int(coordinates[1][2])\n",
    "x4_second = int(coordinates[1][4])\n",
    "y4_second = int(coordinates[1][6])\n",
    "\n",
    "\n",
    "x_coordinates = [x1_first, x2_first, x3_second, x4_second]\n",
    "x_coordinates.sort()\n",
    "smallest_x = x_coordinates[0]\n",
    "print('smallest_x is %s' % smallest_x)\n",
    "largest_x = x_coordinates[-1]\n",
    "print('largest_x is %s' % largest_x)\n",
    "y_coordinates = [y1_first, y2_first, y3_second, y4_second]\n",
    "y_coordinates.sort()\n",
    "smallest_y = y_coordinates[0]\n",
    "print('smallest_y is %s' % smallest_y)\n",
    "largest_y = y_coordinates[-1]\n",
    "print('largest_y is %s' % largest_y)\n",
    "\n",
    "sides = [largest_x - smallest_x, largest_y - smallest_y]\n",
    "if sides[0] > sides[1]:\n",
    "    area = sides[0]**2\n",
    "else:\n",
    "    area = sides[1]**2\n",
    "\n",
    "file = open('square.out', 'w')\n",
    "file.write('area is %s' % area)\n",
    "file.close()\n"
   ]
  },
  {
   "cell_type": "code",
   "execution_count": 96,
   "id": "319f0d4d-af9d-41e2-b2d6-23eda07983f4",
   "metadata": {},
   "outputs": [
    {
     "data": {
      "text/plain": [
       "array([[3, 1, 2],\n",
       "       [4, 0, 0],\n",
       "       [5, 1, 3],\n",
       "       [6, 5, 4]])"
      ]
     },
     "execution_count": 96,
     "metadata": {},
     "output_type": "execute_result"
    }
   ],
   "source": [
    "import numpy as np\n",
    "arr1 = np.array([[3,1,2],[4,0,0],[5,1,3],[6,5,4]])\n",
    "arr1"
   ]
  },
  {
   "cell_type": "code",
   "execution_count": null,
   "id": "e9f54eec-f0b9-4039-9c69-821766e69de0",
   "metadata": {},
   "outputs": [],
   "source": []
  }
 ],
 "metadata": {
  "kernelspec": {
   "display_name": "Python 3 (ipykernel)",
   "language": "python",
   "name": "python3"
  },
  "language_info": {
   "codemirror_mode": {
    "name": "ipython",
    "version": 3
   },
   "file_extension": ".py",
   "mimetype": "text/x-python",
   "name": "python",
   "nbconvert_exporter": "python",
   "pygments_lexer": "ipython3",
   "version": "3.11.7"
  }
 },
 "nbformat": 4,
 "nbformat_minor": 5
}
