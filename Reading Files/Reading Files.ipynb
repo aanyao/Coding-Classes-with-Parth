{
 "cells": [
  {
   "cell_type": "code",
   "execution_count": 13,
   "id": "3331c6d7-706b-48e1-9dd0-a32f12b4a60d",
   "metadata": {},
   "outputs": [
    {
     "name": "stdout",
     "output_type": "stream",
     "text": [
      "Overwriting codingclasses.txt\n"
     ]
    }
   ],
   "source": [
    "%%writefile codingclasses.txt\n",
    "This is our second coding class\n",
    "We discussed about data types\n",
    "Some of the data types are int, float, string, tuples, dictionary, etc"
   ]
  },
  {
   "cell_type": "code",
   "execution_count": 4,
   "id": "5174394d-22b2-442b-966e-17004cdee503",
   "metadata": {},
   "outputs": [],
   "source": [
    "a = open('myfile.txt')"
   ]
  },
  {
   "cell_type": "code",
   "execution_count": 5,
   "id": "e8dd8e8d-f3ec-4179-9091-fcc664f2764b",
   "metadata": {},
   "outputs": [
    {
     "data": {
      "text/plain": [
       "'Hello this is a text file\\nThis is second line\\nThis is third line\\n'"
      ]
     },
     "execution_count": 5,
     "metadata": {},
     "output_type": "execute_result"
    }
   ],
   "source": [
    "a.read()"
   ]
  },
  {
   "cell_type": "code",
   "execution_count": 6,
   "id": "6aaff807-59e4-4d05-9278-d4339c7fef0e",
   "metadata": {},
   "outputs": [
    {
     "data": {
      "text/plain": [
       "'This is our second coding class\\nWe discussed about data types\\nSome of the data types are int, float, string, tuples, dictionary, etc\\n'"
      ]
     },
     "execution_count": 6,
     "metadata": {},
     "output_type": "execute_result"
    }
   ],
   "source": [
    "b = open('codingclasses.txt')\n",
    "b.read()"
   ]
  },
  {
   "cell_type": "code",
   "execution_count": 14,
   "id": "78fcef83-0901-4791-b639-af9cf5554681",
   "metadata": {},
   "outputs": [
    {
     "data": {
      "text/plain": [
       "42"
      ]
     },
     "execution_count": 14,
     "metadata": {},
     "output_type": "execute_result"
    }
   ],
   "source": [
    "b = open('codingclasses.txt','a')\n",
    "b.write('We are also discussing about writing files')"
   ]
  },
  {
   "cell_type": "code",
   "execution_count": 9,
   "id": "75940bd8-ea03-489a-865e-2050af50a2dc",
   "metadata": {},
   "outputs": [
    {
     "data": {
      "text/plain": [
       "0"
      ]
     },
     "execution_count": 9,
     "metadata": {},
     "output_type": "execute_result"
    }
   ],
   "source": [
    "b.seek(0)"
   ]
  },
  {
   "cell_type": "code",
   "execution_count": 15,
   "id": "91ba9670-e2a6-48d9-86b0-e2d75dfd650a",
   "metadata": {},
   "outputs": [],
   "source": [
    "b = open('codingclasses.txt','r')"
   ]
  },
  {
   "cell_type": "code",
   "execution_count": 16,
   "id": "5b525f02-707b-4565-8d92-1b3f21585252",
   "metadata": {},
   "outputs": [
    {
     "data": {
      "text/plain": [
       "'This is our second coding class\\nWe discussed about data types\\nSome of the data types are int, float, string, tuples, dictionary, etc\\nWe are also discussing about writing files'"
      ]
     },
     "execution_count": 16,
     "metadata": {},
     "output_type": "execute_result"
    }
   ],
   "source": [
    "b.read()"
   ]
  },
  {
   "cell_type": "code",
   "execution_count": 21,
   "id": "e9f54eec-f0b9-4039-9c69-821766e69de0",
   "metadata": {},
   "outputs": [
    {
     "name": "stdout",
     "output_type": "stream",
     "text": [
      "Overwriting myfile.txt\n"
     ]
    }
   ],
   "source": [
    "%%writefile 'myfile.txt'\n",
    "8 8 "
   ]
  },
  {
   "cell_type": "code",
   "execution_count": 22,
   "id": "c348aeb9-54b2-4cba-a949-ef22b0fb2663",
   "metadata": {},
   "outputs": [],
   "source": [
    "f = open('myfile.txt','r')\n",
    "\n",
    "#Reads only first line"
   ]
  },
  {
   "cell_type": "code",
   "execution_count": 23,
   "id": "ef129170-c220-4c8e-a722-16f164039f37",
   "metadata": {},
   "outputs": [],
   "source": [
    "a,b = map(int, f.readline().split())\n",
    "\n",
    "#stores value in file into a and b \n",
    "#Sometimes it might throw error if readline() is used multiple times . for each line readline should be used only once. once readline executes cursor shifts towards end. \n"
   ]
  },
  {
   "cell_type": "code",
   "execution_count": 24,
   "id": "90148871-e573-4a57-b40a-c78a73834d05",
   "metadata": {},
   "outputs": [
    {
     "data": {
      "text/plain": [
       "(8, 8)"
      ]
     },
     "execution_count": 24,
     "metadata": {},
     "output_type": "execute_result"
    }
   ],
   "source": [
    "a,b"
   ]
  },
  {
   "cell_type": "code",
   "execution_count": null,
   "id": "598d3e2e-16d2-452b-bd24-7098082aecdd",
   "metadata": {},
   "outputs": [],
   "source": []
  }
 ],
 "metadata": {
  "kernelspec": {
   "display_name": "Python 3 (ipykernel)",
   "language": "python",
   "name": "python3"
  },
  "language_info": {
   "codemirror_mode": {
    "name": "ipython",
    "version": 3
   },
   "file_extension": ".py",
   "mimetype": "text/x-python",
   "name": "python",
   "nbconvert_exporter": "python",
   "pygments_lexer": "ipython3",
   "version": "3.11.7"
  }
 },
 "nbformat": 4,
 "nbformat_minor": 5
}
